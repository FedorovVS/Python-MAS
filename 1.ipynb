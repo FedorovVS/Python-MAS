{
 "cells": [
  {
   "cell_type": "markdown",
   "id": "8999a381-ab6e-43b9-8b3f-2d4910595200",
   "metadata": {},
   "source": [
    "# 1 введение в Python"
   ]
  },
  {
   "cell_type": "markdown",
   "id": "6459529c-aad2-418e-9beb-cb52e11ed590",
   "metadata": {},
   "source": [
    "### Пара слов о курсе"
   ]
  },
  {
   "cell_type": "markdown",
   "id": "7a348491-23e4-4760-b6e4-6252e3914348",
   "metadata": {},
   "source": [
    "Это краткий вводный курс Python. Подготовлен для физиков и астрономов, желающих освоить основы компьютерной обработки данных. Основные библиотеки курса: numpy, matplotlib, pandas, seaborn. Они позволяют проводить вычисления, работать с таблицами, представлять данные графически. Курс состоит из нескольких занятий, изложенных в jupyter ноутбуках, они содержат необходимую теорию, примеры и задания для отработки. Желательно иметь минимальный опыт в каком-либо языке программирования, владеть математикой 10-11 класса, но не обязательно."
   ]
  },
  {
   "cell_type": "markdown",
   "id": "5b5dac4c-9ef6-4aeb-adf3-0aee2ff0a593",
   "metadata": {},
   "source": [
    "### Рабочее окружение"
   ]
  },
  {
   "cell_type": "markdown",
   "id": "8cfeb957-2df6-4465-9953-4064c2483331",
   "metadata": {},
   "source": [
    "Прежде всего следует установить и настроить необходимые программы:  \n",
    "Python устанавливается установщиком с официального [сайта](https://www.python.org/downloads/)  \n",
    "Современный Python включает в себя установщик пакетов pip, можно проверить его наличие командой\n",
    "`pip --version` (для этого нужно запустить терминал, Win+R)  \n",
    "Jupyter lab: `pip install jupyterlab`, запуск: `jupyter lab`. Может не повезти и придётся настраивать переменную среды.  \n",
    "Нужные библиотеки:  \n",
    "```\n",
    "pip install numpy\n",
    "pip install matplotlib\n",
    "pip install pandas\n",
    "pip install seaborn\n",
    "```\n",
    "Также рекомендуется поставить удобный текстовый редактор, например, VS Code, но в рамках курса он, скорее всего, не потребуется.  \n",
    "Следует ожидать, что не всё удастся с первого раза, возможно, потребуется помощь или изучение дополнительных источников."
   ]
  },
  {
   "cell_type": "markdown",
   "id": "aa831c11-eedb-47e6-8e06-8cad9500b60e",
   "metadata": {
    "tags": []
   },
   "source": [
    "### Hello World!"
   ]
  },
  {
   "cell_type": "markdown",
   "id": "3bb4acc2-8934-4844-bd86-3c635e163d2e",
   "metadata": {},
   "source": [
    "В этом разделе обсудим структуру программы, познакомимся с работой ноутбуков (которые notebook, не laptop).  \n",
    "Первым делом создайте ноутбук (не обязательно, всё на самом деле будет и здесь). Перед вами будет путая ячейка для кода:"
   ]
  },
  {
   "cell_type": "code",
   "execution_count": null,
   "id": "177c2662-376f-4f7e-9c0b-aac35c31f553",
   "metadata": {},
   "outputs": [],
   "source": []
  },
  {
   "cell_type": "markdown",
   "id": "d69661ee-01af-41db-802a-981156b07a66",
   "metadata": {},
   "source": [
    "Таких ячеек допускается создавать неограниченно много, в каждой из них неограниченно много кода. Код ноутбука выполняется последовательно, от чейки к ячейке, что позволяет выделять в отдельные ячейки наиболее важные части и контролировать их выполнение отдельно. При этом все ячейки являются одним большим кодом, переменная, созданная в первой ячейке, будет действительна в любой другой ячейке далее (соблюдайте осторожность с изменением значений переменных, иногда приходится запускать ячейки с самого начала, чтобы исправить неправильно записанные данные).  \n",
    "Выполнение кода: Shift+Enter"
   ]
  },
  {
   "cell_type": "code",
   "execution_count": 7,
   "id": "92235448-83a0-458e-a5c1-929e06d47ec0",
   "metadata": {},
   "outputs": [
    {
     "data": {
      "text/plain": [
       "105"
      ]
     },
     "execution_count": 7,
     "metadata": {},
     "output_type": "execute_result"
    }
   ],
   "source": [
    "x = 100\n",
    "y = 5\n",
    "z = x + y\n",
    "z"
   ]
  },
  {
   "cell_type": "markdown",
   "id": "b3cf561d-05b6-412c-8db4-669f6e6c8e8b",
   "metadata": {},
   "source": [
    "Если поместить какую-либо переменную в конце ячейки без операций, то в output будет помещено значение переменной и, возможно, дополнительная информация. Туда же выбрасываются ошибки и картинки.  \n",
    "Ниже пример использования функции вывода текста. Её не обязательно помещать в конец ячейки, текст будет выведен всегда."
   ]
  },
  {
   "cell_type": "code",
   "execution_count": 12,
   "id": "060391be-7c3b-4c25-9ab5-fa3b6518fd4a",
   "metadata": {},
   "outputs": [
    {
     "name": "stdout",
     "output_type": "stream",
     "text": [
      "Привет мир!\n"
     ]
    }
   ],
   "source": [
    "print('Привет мир!')"
   ]
  },
  {
   "cell_type": "markdown",
   "id": "a1cb1560-b173-45d9-ac66-3c743079a417",
   "metadata": {},
   "source": [
    "### Базовые конструкции"
   ]
  },
  {
   "cell_type": "markdown",
   "id": "7af394a9-3c57-4c6d-b898-04571f9d12c0",
   "metadata": {},
   "source": [
    "Здесь примеры простейших циклов и условных конструкций с необходимыми комментариями."
   ]
  },
  {
   "cell_type": "code",
   "execution_count": 15,
   "id": "a3197772-5ce1-4ef8-85f8-e655209bdf46",
   "metadata": {},
   "outputs": [
    {
     "name": "stdout",
     "output_type": "stream",
     "text": [
      "0\n",
      "1\n",
      "2\n",
      "3\n",
      "4\n",
      "5\n",
      "6\n",
      "7\n",
      "8\n",
      "9\n"
     ]
    }
   ],
   "source": [
    "# цикл for: перебирает все значения в списке range(10): [0, 1 ... 8, 9] и выполняет с ними код в теле.\n",
    "for i in range(10):\n",
    "    print(i)"
   ]
  },
  {
   "cell_type": "code",
   "execution_count": 16,
   "id": "e1947d51-35c0-4c12-9fd5-1e19bc1e3813",
   "metadata": {},
   "outputs": [
    {
     "name": "stdout",
     "output_type": "stream",
     "text": [
      "4\n",
      "16\n"
     ]
    }
   ],
   "source": [
    "# цикл while: выполняет последовательно код в теле, пока верно условие.\n",
    "i = 2\n",
    "while i <= 5:\n",
    "    i = i**2\n",
    "    print(i)"
   ]
  },
  {
   "cell_type": "code",
   "execution_count": 17,
   "id": "347c749b-2153-4cdd-a348-bbdab7ff0f83",
   "metadata": {},
   "outputs": [
    {
     "name": "stdout",
     "output_type": "stream",
     "text": [
      "Nooo!\n"
     ]
    }
   ],
   "source": [
    "# if: конструкция ветвления.\n",
    "if i == 10:\n",
    "    print('OK!')\n",
    "elif i == 15:\n",
    "    print('Maybe...')\n",
    "else:\n",
    "    print('Nooo!')"
   ]
  },
  {
   "cell_type": "markdown",
   "id": "a46d129a-5685-4f4c-a732-f6f6942c5978",
   "metadata": {},
   "source": [
    "### Функции"
   ]
  },
  {
   "cell_type": "markdown",
   "id": "0504150f-2b02-471b-839b-741630e90430",
   "metadata": {},
   "source": [
    "Часто, для удобства чтения кода и из практических соображений часть команд помещают в функцию:"
   ]
  },
  {
   "cell_type": "code",
   "execution_count": 18,
   "id": "7abaabcf-3576-4fb1-a632-5df7130c04e7",
   "metadata": {},
   "outputs": [],
   "source": [
    "def my_function (x):\n",
    "    print('Дано:')\n",
    "    print(x)\n",
    "    result = x*10 + 2\n",
    "    print('Получилось:')\n",
    "    print(result)\n",
    "    return result"
   ]
  },
  {
   "cell_type": "markdown",
   "id": "494e3ad5-fb33-46a1-8aa0-b93e58b5efd9",
   "metadata": {},
   "source": [
    "return не является обязательным, он лишь позволяет функции возвращать некое значение при вызове:"
   ]
  },
  {
   "cell_type": "code",
   "execution_count": 22,
   "id": "5b211742-5f1e-4f10-83c1-e40df108b5c3",
   "metadata": {},
   "outputs": [
    {
     "name": "stdout",
     "output_type": "stream",
     "text": [
      "Дано:\n",
      "10\n",
      "Получилось:\n",
      "102\n",
      "They got: 102\n"
     ]
    }
   ],
   "source": [
    "a = my_function(10)\n",
    "print('They got:', a)"
   ]
  },
  {
   "cell_type": "markdown",
   "id": "a423a6d7-1b3f-4f53-a608-b34716b1436b",
   "metadata": {},
   "source": [
    "Через запятую указывается последовательность аргументов функции. Есть возможность также напрямую указать, какой конкретно аргумент нужен при вызове (если их много):"
   ]
  },
  {
   "cell_type": "code",
   "execution_count": 23,
   "id": "bbcc429e-cc0e-4552-b5b6-5a3073c0727d",
   "metadata": {},
   "outputs": [
    {
     "name": "stdout",
     "output_type": "stream",
     "text": [
      "100\n"
     ]
    }
   ],
   "source": [
    "def my_second_function (x, a=10, b=20):\n",
    "    print(a*x+b)\n",
    "\n",
    "my_second_function(10, b=0)"
   ]
  },
  {
   "cell_type": "markdown",
   "id": "47fefe8d-88c8-469d-a0f4-cde9477075a9",
   "metadata": {},
   "source": [
    "### Хранение данных"
   ]
  },
  {
   "cell_type": "markdown",
   "id": "d973dd85-71fb-4c4e-a0a5-a42f814edd6e",
   "metadata": {},
   "source": [
    "В Python нет массивов в чистом виде, их функцию частично берут на себя списки:"
   ]
  },
  {
   "cell_type": "code",
   "execution_count": 24,
   "id": "eac6b5c5-f2f1-4c8c-95fd-de6d6189a66c",
   "metadata": {},
   "outputs": [],
   "source": [
    "ls = [1, 2, 3]"
   ]
  },
  {
   "cell_type": "markdown",
   "id": "1300bcd1-d8e5-481b-af63-0252e1c7dfaa",
   "metadata": {},
   "source": [
    "Нет ограничений на тип элементов списка, в том числе, элементом списка может быть список:"
   ]
  },
  {
   "cell_type": "code",
   "execution_count": 25,
   "id": "fdde0e48-10c2-49a1-8376-d94532b0edc1",
   "metadata": {
    "tags": []
   },
   "outputs": [],
   "source": [
    "ls = ['hi', 1, [1, 2]]"
   ]
  },
  {
   "cell_type": "markdown",
   "id": "a41624a4-cd6f-4270-9c90-c645e2d893eb",
   "metadata": {
    "tags": []
   },
   "source": [
    "range() возвращает список, так что можно ставить любой список в цикл for:"
   ]
  },
  {
   "cell_type": "code",
   "execution_count": 26,
   "id": "a41bf6d7-859c-44c4-8fc8-e5c27d8fe50f",
   "metadata": {},
   "outputs": [
    {
     "name": "stdout",
     "output_type": "stream",
     "text": [
      "a\n",
      "b\n",
      "c\n",
      "d\n"
     ]
    }
   ],
   "source": [
    "ls = ['a', 'b', 'c', 'd']\n",
    "for i in ls:\n",
    "    print(i)"
   ]
  },
  {
   "cell_type": "markdown",
   "id": "fc6d881e-e937-4a4b-a0f9-49db1d52c15d",
   "metadata": {},
   "source": [
    "Некоторые методы списка:  \n",
    "```\n",
    "ls[i] #  обращение к элементу по индексу\n",
    "ls.append(X) #  добавляет элемент x в конец списка\n",
    "ls.extend(X) #  добавляет список x в коне списка\n",
    "ls.pop(X) #  удаляет x-тый элемент списка и возвращает его\n",
    "ls.sort(X) #  сортировка по функции x\n",
    "ls.count(X) #  количество элементов эквивалентных х\n",
    "ls.index(X) #  возвращает положение первого элемента со значением х\n",
    "```\n",
    "Ничто не заменит самостоятельного чтения документации (желательно, оригинальной)! И поиска, поиска, поиска...  \n",
    "Также небольшое *предостережение*: методы библиотек или такие фундаментальные, как методы списков, предпочтительнее в использовании, чем аналоги, написанные в рамках дефолтного Python. Всем известно, что Python работает медленнее из-за внутреннего устройства, особенностей интерпретатора и тд. Действительно, цикл for с тяжелой функцией в теле на больших количествах итераций даст плохие результаты по времени и ресурсам. Но библиотеки написаны не так! Часто внутри всё реализуется на С/С++ (или ещё как-нибудь), поэтому производительность страдает минимально.  \n",
    "Далее немного обсудим работу с файлами."
   ]
  },
  {
   "cell_type": "code",
   "execution_count": null,
   "id": "dd61a312-b3bf-4b45-80a5-735afa87d174",
   "metadata": {},
   "outputs": [],
   "source": [
    "file = open('input.txt', 'r') #  Загрузка файла, флаги: r - чтение, w - запись, a - дозапись в конец\n",
    "file.read(1) #  чтение одного символа\n",
    "file.read() #  чтение всех символов\n",
    "for line in file: #  перебор всех строк файла\n",
    "    pass\n",
    "file.write('Some text\\n') # запись что-либо\n",
    "file.close() # лучше закрывать файл по окончании работы с ним"
   ]
  },
  {
   "cell_type": "markdown",
   "id": "428276eb-96bc-43c4-b541-76fff0fdc67b",
   "metadata": {},
   "source": [
    "### Задание"
   ]
  },
  {
   "cell_type": "markdown",
   "id": "3e74d5a3-c55f-4aae-8efe-826105d6d2b4",
   "metadata": {},
   "source": [
    "Перед вами небольшой датасет с информацией о звездах (data1.csv). Формат файла - comma separated values, наиболее распространённый способ хранить таблицы. Задания - типичные операции при работе с данными. На следующих занятиях мы освоим более приятные пути их реализации.  \n",
    "<span style=\"color:blue\">ЗАДАНИЕ 1</span> Откройте файл, прочитайте его построчно. Сколько всего строк? (Длину списка возвращает функция len(list))\n"
   ]
  },
  {
   "cell_type": "code",
   "execution_count": null,
   "id": "3b2f8109-a82b-48c5-98b8-8f8ee2db3bab",
   "metadata": {},
   "outputs": [],
   "source": []
  },
  {
   "cell_type": "markdown",
   "id": "76bc5d68-0458-4f6d-8d4d-cc327e136f7f",
   "metadata": {},
   "source": [
    "<span style=\"color:blue\">ЗАДАНИЕ 2</span> Разбейте каждую строку на значения в столбцах, строковый метод split(). Выведете спектральный класс звезды с индексом 1000."
   ]
  },
  {
   "cell_type": "code",
   "execution_count": null,
   "id": "f5c71e9d-77ae-4988-b9f4-bc30bc63d7a8",
   "metadata": {},
   "outputs": [],
   "source": []
  },
  {
   "cell_type": "markdown",
   "id": "9f8a0cc0-75a8-447c-b28d-9ea5157e4e49",
   "metadata": {},
   "source": [
    "<span style=\"color:blue\">ЗАДАНИЕ 3</span> Удалите столбец e_Plx, для этого придётся воспользоваться циклом."
   ]
  },
  {
   "cell_type": "code",
   "execution_count": null,
   "id": "492692ed-9b7b-41b8-bdb3-092df488072f",
   "metadata": {},
   "outputs": [],
   "source": []
  },
  {
   "cell_type": "markdown",
   "id": "f164d826-4ea6-432f-a61b-9d828ac0a0dd",
   "metadata": {},
   "source": [
    "<span style=\"color:blue\">ЗАДАНИЕ 4</span> Сколько звёзд с TargetClass==1?"
   ]
  },
  {
   "cell_type": "code",
   "execution_count": null,
   "id": "37ff1569-b89d-4533-a202-489c5892f175",
   "metadata": {},
   "outputs": [],
   "source": []
  },
  {
   "cell_type": "markdown",
   "id": "f78e4bf0-cc56-42bd-850a-eae02d9ce9d4",
   "metadata": {},
   "source": [
    "<span style=\"color:blue\">ЗАДАНИЕ 5</span> Оставьте только жёлтые звёзды."
   ]
  },
  {
   "cell_type": "code",
   "execution_count": null,
   "id": "563c5256-f2ef-4524-9c44-2ffb4ae84e65",
   "metadata": {},
   "outputs": [],
   "source": []
  },
  {
   "cell_type": "markdown",
   "id": "ef91bf6e-da68-4040-8ccc-ae1461686b2d",
   "metadata": {},
   "source": [
    "<span style=\"color:blue\">ЗАДАНИЕ 6</span> Вычислите среднее значение Vmag."
   ]
  },
  {
   "cell_type": "code",
   "execution_count": null,
   "id": "8844351e-e658-4730-8259-bbb6e8dd9f3c",
   "metadata": {},
   "outputs": [],
   "source": []
  }
 ],
 "metadata": {
  "kernelspec": {
   "display_name": "Python 3 (ipykernel)",
   "language": "python",
   "name": "python3"
  },
  "language_info": {
   "codemirror_mode": {
    "name": "ipython",
    "version": 3
   },
   "file_extension": ".py",
   "mimetype": "text/x-python",
   "name": "python",
   "nbconvert_exporter": "python",
   "pygments_lexer": "ipython3",
   "version": "3.9.7"
  }
 },
 "nbformat": 4,
 "nbformat_minor": 5
}
