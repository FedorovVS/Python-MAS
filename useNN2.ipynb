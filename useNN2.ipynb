{
 "cells": [
  {
   "cell_type": "code",
   "execution_count": 31,
   "id": "758c2332-c506-4757-95d4-6fea7b829b97",
   "metadata": {},
   "outputs": [],
   "source": [
    "# импорт библитек\n",
    "import numpy as np\n",
    "import pandas as pd\n",
    "import matplotlib.pyplot as plt\n",
    "import seaborn as sns\n",
    "import scipy.special"
   ]
  },
  {
   "cell_type": "code",
   "execution_count": 4,
   "id": "96ab3baa-1254-4aad-8292-19d0b17e6f4f",
   "metadata": {},
   "outputs": [],
   "source": [
    "# читаем файл\n",
    "df = pd.read_csv('6 class csv.csv')\n",
    "df = df.sample(frac=1).reset_index(drop=True)"
   ]
  },
  {
   "cell_type": "code",
   "execution_count": 5,
   "id": "5d8d3fff-dec0-4717-bc38-4930b5571de6",
   "metadata": {},
   "outputs": [],
   "source": [
    "df.loc[(df['Star color']=='Red'), 'Star color'] = 1\n",
    "df.loc[((df['Star color']=='Blue white ') | (df['Star color']=='Blue ') | (df['Star color']=='Blue') | (df['Star color']=='Blue-white') | (df['Star color']=='Blue White') | (df['Star color']=='Blue white') | (df['Star color']=='Blue') | (df['Star color']=='Blue-White')), 'Star color'] =  5\n",
    "df.loc[(df['Star color']=='yellow-white') | (df['Star color']=='Yellowish White') | (df['Star color']=='yellowish') | (df['Star color']=='Yellowish') | (df['Star color']=='White-Yellow') | (df['Star color']=='Blue'), 'Star color'] = 3\n",
    "df.loc[((df['Star color']=='White') | (df['Star color']=='white') | (df['Star color']=='Whitish')), 'Star color'] =  4\n",
    "df.loc[((df['Star color']=='Orange') | (df['Star color']=='Orange-Red') | (df['Star color']=='Pale yellow orange')), 'Star color'] =  2"
   ]
  },
  {
   "cell_type": "code",
   "execution_count": 7,
   "id": "4efc0982-54e1-40c7-851d-798e6371a3fa",
   "metadata": {},
   "outputs": [],
   "source": [
    "df.loc[(df['Spectral Class']=='O'), 'Spectral Class'] = 1\n",
    "df.loc[(df['Spectral Class']=='B'), 'Spectral Class'] = 2\n",
    "df.loc[(df['Spectral Class']=='A'), 'Spectral Class'] = 3\n",
    "df.loc[(df['Spectral Class']=='F'), 'Spectral Class'] = 4\n",
    "df.loc[(df['Spectral Class']=='G'), 'Spectral Class'] = 5\n",
    "df.loc[(df['Spectral Class']=='K'), 'Spectral Class'] = 6\n",
    "df.loc[(df['Spectral Class']=='M'), 'Spectral Class'] = 7"
   ]
  },
  {
   "cell_type": "code",
   "execution_count": 8,
   "id": "c0db52cf-0100-458b-b50f-1ed59f9af1bf",
   "metadata": {},
   "outputs": [],
   "source": [
    "df = df.astype('float')\n",
    "X = df.drop('Star type', axis=1)\n",
    "Y = df['Star type']\n",
    "X = (X-X.min())/(X.max()-X.min()) * 0.99998 + 0.00001"
   ]
  },
  {
   "cell_type": "code",
   "execution_count": 9,
   "id": "2a7b1891-48fb-4bf5-85b6-438ffac70179",
   "metadata": {},
   "outputs": [],
   "source": [
    "tr_s = int(X.shape[0]*0.7)\n",
    "X_train = X[:tr_s]\n",
    "y_train = Y[:tr_s]\n",
    "X_valid = X[tr_s:].reset_index(drop=True)\n",
    "Y_valid = Y[tr_s:].reset_index(drop=True)"
   ]
  },
  {
   "cell_type": "code",
   "execution_count": 36,
   "id": "811d963c-6d8a-4299-a855-963eee2ee57b",
   "metadata": {},
   "outputs": [
    {
     "data": {
      "text/plain": [
       "<AxesSubplot:>"
      ]
     },
     "execution_count": 36,
     "metadata": {},
     "output_type": "execute_result"
    },
    {
     "data": {
      "image/png": "[encoded data removed]",
      "text/plain": [
       "<Figure size 432x288 with 2 Axes>"
      ]
     },
     "metadata": {
      "needs_background": "light"
     },
     "output_type": "display_data"
    }
   ],
   "source": [
    "sns.heatmap(X.corr())"
   ]
  },
  {
   "cell_type": "code",
   "execution_count": 10,
   "id": "46aad4c2-9a96-4ce8-89b9-cbb37c4928e7",
   "metadata": {},
   "outputs": [],
   "source": [
    "class Net:\n",
    "    \n",
    "    def __init__(self, input_nodes, hidden_nodes, output_nodes, learning_rate):\n",
    "        self.inodes = input_nodes\n",
    "        self.hnodes = hidden_nodes\n",
    "        self.onodes = output_nodes\n",
    "        self.lr = learning_rate\n",
    "        self.wih = (np.random.normal(0.0, pow(self.hnodes, -0.5), (self.hnodes,self.inodes)))\n",
    "        self.who = (np.random.normal(0.0, pow(self.onodes, -0.5), (self.onodes,self.hnodes)))\n",
    "        \n",
    "        self.activation = lambda x: scipy.special.expit(x)\n",
    "        pass\n",
    "    \n",
    "    def train(self, inputs_list, targets_list):\n",
    "        inputs = np.array(inputs_list, ndmin=2).T\n",
    "        targets = np.array(targets_list, ndmin=2).T\n",
    "        \n",
    "        hidden_inputs = np.dot(self.wih, inputs)\n",
    "        hidden_outputs = self.activation(hidden_inputs)\n",
    "        final_inputs = np.dot(self.who, hidden_outputs)\n",
    "        final_outputs = self.activation(final_inputs)\n",
    "        \n",
    "        output_errors = targets - final_outputs\n",
    "        hidden_errors = np.dot(self.who.T, output_errors)\n",
    "        self.who += self.lr*np.dot((output_errors*final_outputs*(1-final_outputs)),np.transpose(hidden_outputs))\n",
    "        self.wih += self.lr*np.dot((hidden_errors*hidden_outputs*(1-hidden_outputs)),np.transpose(inputs))\n",
    "        \n",
    "        pass\n",
    "    \n",
    "    def query(self, inputs_list):\n",
    "        inputs = np.array(inputs_list, ndmin=2).T\n",
    "        hidden_inputs = np.dot(self.wih, inputs)\n",
    "        hidden_outputs = self.activation(hidden_inputs)\n",
    "        final_inputs = np.dot(self.who, hidden_outputs)\n",
    "        final_outputs = self.activation(final_inputs)\n",
    "        \n",
    "        return final_outputs"
   ]
  },
  {
   "cell_type": "code",
   "execution_count": 11,
   "id": "7cf8eca9-2cbb-4e4e-b23f-a2f404fbb786",
   "metadata": {},
   "outputs": [],
   "source": [
    "n = Net(6, 10, 6, 0.5)"
   ]
  },
  {
   "cell_type": "code",
   "execution_count": 23,
   "id": "328a9925-b0b4-4b32-a2b0-ac75eaa5e26b",
   "metadata": {},
   "outputs": [],
   "source": [
    "for j in range(100):\n",
    "    for i in range(X.shape[0]):\n",
    "        target = np.zeros(6) + 0.001\n",
    "        target[int(Y[i])] = 0.999\n",
    "        n.train(X.iloc[i], target)"
   ]
  },
  {
   "cell_type": "code",
   "execution_count": 30,
   "id": "a23d770e-79a8-4c84-aa5c-c979e939319d",
   "metadata": {},
   "outputs": [
    {
     "data": {
      "text/plain": [
       "1.0"
      ]
     },
     "execution_count": 30,
     "metadata": {},
     "output_type": "execute_result"
    }
   ],
   "source": [
    "cnt = 0\n",
    "for i in range(X_valid.shape[0]):\n",
    "    if np.argmax(n.query(X_valid.iloc[i]))==Y_valid[i]:\n",
    "        cnt += 1\n",
    "cnt/X_valid.shape[0]"
   ]
  }
 ],
 "metadata": {
  "kernelspec": {
   "display_name": "Python 3 (ipykernel)",
   "language": "python",
   "name": "python3"
  },
  "language_info": {
   "codemirror_mode": {
    "name": "ipython",
    "version": 3
   },
   "file_extension": ".py",
   "mimetype": "text/x-python",
   "name": "python",
   "nbconvert_exporter": "python",
   "pygments_lexer": "ipython3",
   "version": "3.9.7"
  }
 },
 "nbformat": 4,
 "nbformat_minor": 5
}
