{
 "cells": [
  {
   "cell_type": "code",
   "execution_count": 41,
   "id": "4ac0bbdd-4ced-4e04-8c4a-f629af76fcc5",
   "metadata": {},
   "outputs": [],
   "source": [
    "import numpy as np\n",
    "import scipy.special\n",
    "import matplotlib.pyplot as plt\n",
    "%matplotlib inline"
   ]
  },
  {
   "cell_type": "code",
   "execution_count": 48,
   "id": "adf6cfde-5553-4ef1-9830-12a3f2a0a1d3",
   "metadata": {},
   "outputs": [],
   "source": [
    "class Net:\n",
    "    \n",
    "    def __init__(self, input_nodes, hidden_nodes, output_nodes, learning_rate):\n",
    "        self.inodes = input_nodes\n",
    "        self.hnodes = hidden_nodes\n",
    "        self.onodes = output_nodes\n",
    "        self.lr = learning_rate\n",
    "        self.wih = (np.random.normal(0.0, pow(self.hnodes, -0.5), (self.hnodes,self.inodes)))\n",
    "        self.who = (np.random.normal(0.0, pow(self.onodes, -0.5), (self.onodes,self.hnodes)))\n",
    "        \n",
    "        self.activation = lambda x: scipy.special.expit(x)\n",
    "        pass\n",
    "    \n",
    "    def train(self, inputs_list, targets_list):\n",
    "        inputs = np.array(inputs_list, ndmin=2).T\n",
    "        targets = np.array(targets_list, ndmin=2).T\n",
    "        \n",
    "        hidden_inputs = np.dot(self.wih, inputs)\n",
    "        hidden_outputs = self.activation(hidden_inputs)\n",
    "        final_inputs = np.dot(self.who, hidden_outputs)\n",
    "        final_outputs = self.activation(final_inputs)\n",
    "        \n",
    "        output_errors = targets - final_outputs\n",
    "        hidden_errors = np.dot(self.who.T, output_errors)\n",
    "        self.who += self.lr*np.dot((output_errors*final_outputs*(1-final_outputs)),np.transpose(hidden_outputs))\n",
    "        self.wih += self.lr*np.dot((hidden_errors*hidden_outputs*(1-hidden_outputs)),np.transpose(inputs))\n",
    "        \n",
    "        pass\n",
    "    \n",
    "    def query(self, inputs_list):\n",
    "        inputs = np.array(inputs_list, ndmin=2).T\n",
    "        hidden_inputs = np.dot(self.wih, inputs)\n",
    "        hidden_outputs = self.activation(hidden_inputs)\n",
    "        final_inputs = np.dot(self.who, hidden_outputs)\n",
    "        final_outputs = self.activation(final_inputs)\n",
    "        \n",
    "        return final_outputs"
   ]
  },
  {
   "cell_type": "code",
   "execution_count": 49,
   "id": "78dbf6e2-d47a-4f93-a9a2-f428ebfe9ad0",
   "metadata": {},
   "outputs": [],
   "source": [
    "n = Net(784, 100, 10, 0.3)"
   ]
  },
  {
   "cell_type": "code",
   "execution_count": 50,
   "id": "6e929431-0d06-439d-bc49-ddf2c81faa0d",
   "metadata": {},
   "outputs": [],
   "source": [
    "df = open('mnist_train_100.csv', 'r')\n",
    "dl = df.readlines()\n",
    "df.close()"
   ]
  },
  {
   "cell_type": "code",
   "execution_count": 51,
   "id": "4dfef0cb-2413-4b86-9f71-9d095cd23d0b",
   "metadata": {},
   "outputs": [],
   "source": [
    "#all_values = dl[0].split(',')\n",
    "#img = np.asfarray(all_values[1:]).reshape((28,28))\n",
    "#plt.imshow(img, cmap='Greys')"
   ]
  },
  {
   "cell_type": "code",
   "execution_count": 52,
   "id": "ea2af70d-3712-419a-8d9a-427ab4b27d93",
   "metadata": {},
   "outputs": [],
   "source": [
    "#scaled = np.asfarray(all_values[1:]) / 255. * .99 + .01"
   ]
  },
  {
   "cell_type": "code",
   "execution_count": 53,
   "id": "2b9ee2d1-8230-4ea8-8d7f-10e5c18d126a",
   "metadata": {},
   "outputs": [],
   "source": [
    "for shot in dl:\n",
    "    all_values = shot.split(',')\n",
    "    scaled = np.asfarray(all_values[1:]) / 255. * .99 + .01\n",
    "    targets = np.zeros(10) + .01\n",
    "    targets[int(all_values[0])] = .99\n",
    "    n.train(scaled, targets)"
   ]
  },
  {
   "cell_type": "code",
   "execution_count": 54,
   "id": "74c597c3-d5ce-445b-84ce-0bfeaf4e61e4",
   "metadata": {},
   "outputs": [],
   "source": [
    "cf = open('mnist_test_10.csv', 'r')\n",
    "cl = cf.readlines()\n",
    "cf.close()"
   ]
  },
  {
   "cell_type": "code",
   "execution_count": 69,
   "id": "11b10f36-7aaf-435c-b373-b907ec3bc85b",
   "metadata": {},
   "outputs": [
    {
     "name": "stdout",
     "output_type": "stream",
     "text": [
      "4\n"
     ]
    },
    {
     "data": {
      "image/png": "[encoded data removed]",
      "text/plain": [
       "<Figure size 432x288 with 1 Axes>"
      ]
     },
     "metadata": {
      "needs_background": "light"
     },
     "output_type": "display_data"
    }
   ],
   "source": [
    "all_values = cl[6].split(',')\n",
    "img = np.asfarray(all_values[1:]).reshape((28,28))\n",
    "plt.imshow(img, cmap='Greys')\n",
    "print(all_values[0])"
   ]
  },
  {
   "cell_type": "code",
   "execution_count": 70,
   "id": "fd695722-aa9f-4378-9cdc-b32b6ada7b6b",
   "metadata": {},
   "outputs": [
    {
     "name": "stdout",
     "output_type": "stream",
     "text": [
      "[[0.01150305]\n",
      " [0.00530248]\n",
      " [0.00681337]\n",
      " [0.17676149]\n",
      " [0.33137625]\n",
      " [0.04569233]\n",
      " [0.03026211]\n",
      " [0.35889755]\n",
      " [0.03054243]\n",
      " [0.10209228]]\n"
     ]
    }
   ],
   "source": [
    "scaled = np.asfarray(all_values[1:]) / 255. * .99 + .01\n",
    "print(n.query(scaled))"
   ]
  },
  {
   "cell_type": "code",
   "execution_count": null,
   "id": "8898972e-d273-4d44-b7b9-aa5e68f39214",
   "metadata": {},
   "outputs": [],
   "source": []
  }
 ],
 "metadata": {
  "kernelspec": {
   "display_name": "Python 3 (ipykernel)",
   "language": "python",
   "name": "python3"
  },
  "language_info": {
   "codemirror_mode": {
    "name": "ipython",
    "version": 3
   },
   "file_extension": ".py",
   "mimetype": "text/x-python",
   "name": "python",
   "nbconvert_exporter": "python",
   "pygments_lexer": "ipython3",
   "version": "3.9.7"
  }
 },
 "nbformat": 4,
 "nbformat_minor": 5
}
